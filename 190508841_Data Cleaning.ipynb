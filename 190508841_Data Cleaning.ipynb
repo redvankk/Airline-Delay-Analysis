{
 "cells": [
  {
   "cell_type": "code",
   "execution_count": 1,
   "id": "c0b159a5",
   "metadata": {},
   "outputs": [],
   "source": [
    "#importing necessary libraries\n",
    "import pandas as pd\n",
    "import numpy as np"
   ]
  },
  {
   "cell_type": "code",
   "execution_count": 7,
   "id": "82afb9eb",
   "metadata": {},
   "outputs": [],
   "source": [
    "#importing yearly dataset\n",
    "plane_2005 = pd.read_csv(\"2005.csv\")\n",
    "plane_2006 = pd.read_csv(\"2006.csv.csv\")\n"
   ]
  },
  {
   "cell_type": "code",
   "execution_count": 8,
   "id": "a10f92c4",
   "metadata": {},
   "outputs": [
    {
     "data": {
      "text/plain": [
       "(7140596, 29)"
      ]
     },
     "execution_count": 8,
     "metadata": {},
     "output_type": "execute_result"
    }
   ],
   "source": [
    "plane_2005.shape"
   ]
  },
  {
   "cell_type": "code",
   "execution_count": 9,
   "id": "e80f2984",
   "metadata": {},
   "outputs": [
    {
     "data": {
      "text/plain": [
       "(7141922, 29)"
      ]
     },
     "execution_count": 9,
     "metadata": {},
     "output_type": "execute_result"
    }
   ],
   "source": [
    "plane_2006.shape"
   ]
  },
  {
   "cell_type": "code",
   "execution_count": 10,
   "id": "a177402d",
   "metadata": {
    "scrolled": true
   },
   "outputs": [
    {
     "name": "stdout",
     "output_type": "stream",
     "text": [
      "Year\n",
      "Month\n",
      "DayofMonth\n",
      "DayOfWeek\n",
      "DepTime\n",
      "CRSDepTime\n",
      "ArrTime\n",
      "CRSArrTime\n",
      "UniqueCarrier\n",
      "FlightNum\n",
      "TailNum\n",
      "ActualElapsedTime\n",
      "CRSElapsedTime\n",
      "AirTime\n",
      "ArrDelay\n",
      "DepDelay\n",
      "Origin\n",
      "Dest\n",
      "Distance\n",
      "TaxiIn\n",
      "TaxiOut\n",
      "Cancelled\n",
      "CancellationCode\n",
      "Diverted\n",
      "CarrierDelay\n",
      "WeatherDelay\n",
      "NASDelay\n",
      "SecurityDelay\n",
      "LateAircraftDelay\n"
     ]
    }
   ],
   "source": [
    "for col_name in plane_2006.columns: \n",
    "    print(col_name)"
   ]
  },
  {
   "cell_type": "code",
   "execution_count": 11,
   "id": "b37734a6",
   "metadata": {
    "scrolled": true
   },
   "outputs": [
    {
     "data": {
      "text/plain": [
       "0          US\n",
       "1          US\n",
       "2          US\n",
       "3          US\n",
       "4          US\n",
       "           ..\n",
       "7141917    DL\n",
       "7141918    DL\n",
       "7141919    DL\n",
       "7141920    DL\n",
       "7141921    DL\n",
       "Name: UniqueCarrier, Length: 7141922, dtype: object"
      ]
     },
     "execution_count": 11,
     "metadata": {},
     "output_type": "execute_result"
    }
   ],
   "source": [
    "plane_2006[\"UniqueCarrier\"]"
   ]
  },
  {
   "cell_type": "code",
   "execution_count": 12,
   "id": "dffd1f79",
   "metadata": {},
   "outputs": [],
   "source": [
    "# Merging both 2006 and 2005 datasets\n",
    "joined_df = pd.concat([plane_2006, plane_2005],ignore_index= True)"
   ]
  },
  {
   "cell_type": "code",
   "execution_count": 13,
   "id": "3511a19b",
   "metadata": {},
   "outputs": [
    {
     "data": {
      "text/plain": [
       "(14282518, 29)"
      ]
     },
     "execution_count": 13,
     "metadata": {},
     "output_type": "execute_result"
    }
   ],
   "source": [
    "joined_df.shape"
   ]
  },
  {
   "cell_type": "code",
   "execution_count": 14,
   "id": "b6d112e2",
   "metadata": {},
   "outputs": [
    {
     "data": {
      "text/plain": [
       "Year                        0\n",
       "Month                       0\n",
       "DayofMonth                  0\n",
       "DayOfWeek                   0\n",
       "DepTime                255664\n",
       "CRSDepTime                  0\n",
       "ArrTime                285878\n",
       "CRSArrTime                  0\n",
       "UniqueCarrier               0\n",
       "FlightNum                   0\n",
       "TailNum                     0\n",
       "ActualElapsedTime      285878\n",
       "CRSElapsedTime              4\n",
       "AirTime                285878\n",
       "ArrDelay               285878\n",
       "DepDelay               255664\n",
       "Origin                      0\n",
       "Dest                        0\n",
       "Distance                    0\n",
       "TaxiIn                      0\n",
       "TaxiOut                     0\n",
       "Cancelled                   0\n",
       "CancellationCode     14026853\n",
       "Diverted                    0\n",
       "CarrierDelay                0\n",
       "WeatherDelay                0\n",
       "NASDelay                    0\n",
       "SecurityDelay               0\n",
       "LateAircraftDelay           0\n",
       "dtype: int64"
      ]
     },
     "execution_count": 14,
     "metadata": {},
     "output_type": "execute_result"
    }
   ],
   "source": [
    "# Using the pandas isnull() function to find the count of null values present in each column\n",
    "pd.isnull(joined_df).sum(axis=0)"
   ]
  },
  {
   "cell_type": "code",
   "execution_count": 15,
   "id": "1297ea1e",
   "metadata": {},
   "outputs": [],
   "source": [
    "#DepTime: null values 255664,\n",
    "#ArrTime: nullvalues 285878, \n",
    "#ActualElapsedTime: Null values 285878, \n",
    "#AirTime Null values285878, \n",
    "#ArrDelay: Null values 285878, \n",
    "#DepDelay Null values255664,\n",
    "#CancellationCode Null values 14026853 \n"
   ]
  },
  {
   "cell_type": "code",
   "execution_count": 16,
   "id": "dabf42d7",
   "metadata": {},
   "outputs": [
    {
     "data": {
      "text/plain": [
       "0    14026854\n",
       "1      255664\n",
       "Name: Cancelled, dtype: int64"
      ]
     },
     "execution_count": 16,
     "metadata": {},
     "output_type": "execute_result"
    }
   ],
   "source": [
    "# Finding the value counts of Cancelled column\n",
    "joined_df.Cancelled.value_counts()"
   ]
  },
  {
   "cell_type": "code",
   "execution_count": 17,
   "id": "dfc24cc0",
   "metadata": {},
   "outputs": [
    {
     "data": {
      "text/plain": [
       "0    14252304\n",
       "1       30214\n",
       "Name: Diverted, dtype: int64"
      ]
     },
     "execution_count": 17,
     "metadata": {},
     "output_type": "execute_result"
    }
   ],
   "source": [
    "# Finding the value counts of Diverted column\n",
    "joined_df.Diverted.value_counts()"
   ]
  },
  {
   "cell_type": "code",
   "execution_count": 18,
   "id": "bbea355c",
   "metadata": {},
   "outputs": [
    {
     "data": {
      "text/plain": [
       "18"
      ]
     },
     "execution_count": 18,
     "metadata": {},
     "output_type": "execute_result"
    }
   ],
   "source": [
    "joined_df.duplicated().sum()"
   ]
  },
  {
   "cell_type": "code",
   "execution_count": 19,
   "id": "07849c4c",
   "metadata": {},
   "outputs": [
    {
     "data": {
      "text/plain": [
       "(14282500, 29)"
      ]
     },
     "execution_count": 19,
     "metadata": {},
     "output_type": "execute_result"
    }
   ],
   "source": [
    "# Removing duplicate rows using drop_duplicates()\n",
    "joined_df = joined_df.drop_duplicates()\n",
    "joined_df.shape"
   ]
  },
  {
   "cell_type": "code",
   "execution_count": 20,
   "id": "052746f9",
   "metadata": {},
   "outputs": [
    {
     "data": {
      "text/plain": [
       "Year                        0\n",
       "Month                       0\n",
       "DayofMonth                  0\n",
       "DayOfWeek                   0\n",
       "DepTime                255664\n",
       "CRSDepTime                  0\n",
       "ArrTime                285877\n",
       "CRSArrTime                  0\n",
       "UniqueCarrier               0\n",
       "FlightNum                   0\n",
       "TailNum                     0\n",
       "ActualElapsedTime      285877\n",
       "CRSElapsedTime              4\n",
       "AirTime                285877\n",
       "ArrDelay               285877\n",
       "DepDelay               255664\n",
       "Origin                      0\n",
       "Dest                        0\n",
       "Distance                    0\n",
       "TaxiIn                      0\n",
       "TaxiOut                     0\n",
       "Cancelled                   0\n",
       "CancellationCode     14026835\n",
       "Diverted                    0\n",
       "CarrierDelay                0\n",
       "WeatherDelay                0\n",
       "NASDelay                    0\n",
       "SecurityDelay               0\n",
       "LateAircraftDelay           0\n",
       "dtype: int64"
      ]
     },
     "execution_count": 20,
     "metadata": {},
     "output_type": "execute_result"
    }
   ],
   "source": [
    "#We have removed 18 duplicate rows\n",
    "pd.isnull(joined_df).sum(axis=0)"
   ]
  },
  {
   "cell_type": "code",
   "execution_count": 21,
   "id": "e16eea89",
   "metadata": {},
   "outputs": [],
   "source": [
    "#We can see the null values in DepTime, ArrTime,ActualElapsedTime, AirTime,ArrDelay and DepDelay are due to cancelled\n",
    "#and Diverted Flights\n",
    "\n",
    "#We will be removing Cancellation,CancellationCode and Diverted Coloumns as they will not be used to answer any of the 4Q's\n",
    "#And We will be removing the rows that have cancelled flights "
   ]
  },
  {
   "cell_type": "code",
   "execution_count": 22,
   "id": "40927932",
   "metadata": {},
   "outputs": [],
   "source": [
    "#First we will be removing rows with Cancelled and Diverted Flights"
   ]
  },
  {
   "cell_type": "code",
   "execution_count": 23,
   "id": "b0675d4f",
   "metadata": {},
   "outputs": [],
   "source": [
    "# Using the pandas notnull() function to only select non-null values from 'ArrDelay' column\n",
    "joined_df = joined_df[pd.notnull(joined_df[\"ArrTime\"])]"
   ]
  },
  {
   "cell_type": "code",
   "execution_count": 24,
   "id": "adbbba8b",
   "metadata": {},
   "outputs": [
    {
     "data": {
      "text/plain": [
       "Year                        0\n",
       "Month                       0\n",
       "DayofMonth                  0\n",
       "DayOfWeek                   0\n",
       "DepTime                     0\n",
       "CRSDepTime                  0\n",
       "ArrTime                     0\n",
       "CRSArrTime                  0\n",
       "UniqueCarrier               0\n",
       "FlightNum                   0\n",
       "TailNum                     0\n",
       "ActualElapsedTime           0\n",
       "CRSElapsedTime              0\n",
       "AirTime                     0\n",
       "ArrDelay                    0\n",
       "DepDelay                    0\n",
       "Origin                      0\n",
       "Dest                        0\n",
       "Distance                    0\n",
       "TaxiIn                      0\n",
       "TaxiOut                     0\n",
       "Cancelled                   0\n",
       "CancellationCode     13996622\n",
       "Diverted                    0\n",
       "CarrierDelay                0\n",
       "WeatherDelay                0\n",
       "NASDelay                    0\n",
       "SecurityDelay               0\n",
       "LateAircraftDelay           0\n",
       "dtype: int64"
      ]
     },
     "execution_count": 24,
     "metadata": {},
     "output_type": "execute_result"
    }
   ],
   "source": [
    "pd.isnull(joined_df).sum(axis=0)"
   ]
  },
  {
   "cell_type": "code",
   "execution_count": 29,
   "id": "b29bfe0e",
   "metadata": {},
   "outputs": [
    {
     "data": {
      "text/plain": [
       "0    13996623\n",
       "Name: Cancelled, dtype: int64"
      ]
     },
     "execution_count": 29,
     "metadata": {},
     "output_type": "execute_result"
    }
   ],
   "source": [
    "joined_df.Cancelled.value_counts()"
   ]
  },
  {
   "cell_type": "code",
   "execution_count": 26,
   "id": "f8219226",
   "metadata": {},
   "outputs": [],
   "source": [
    "#We can see the null values in DepTime, ArrTime,ActualElapsedTime, AirTime,ArrDelay and DepDelay have been removed\n",
    "#So now CancellationCOde, Cancelled and Diverted coloumns contain only 0 and null values, so we will be removing these coloumns"
   ]
  },
  {
   "cell_type": "code",
   "execution_count": 27,
   "id": "1a10f0ac",
   "metadata": {},
   "outputs": [],
   "source": [
    "#Dropping the cancellationcode coloumn \n",
    "joined_df.drop(columns=[\"CancellationCode\"],inplace= True)"
   ]
  },
  {
   "cell_type": "code",
   "execution_count": 31,
   "id": "d4e71a93",
   "metadata": {},
   "outputs": [
    {
     "data": {
      "text/plain": [
       "(13996623, 27)"
      ]
     },
     "execution_count": 31,
     "metadata": {},
     "output_type": "execute_result"
    }
   ],
   "source": [
    "#Dropping the Cancelled coloumn\n",
    "joined_df.drop(columns=[\"Cancelled\"],inplace= True)\n",
    "joined_df.shape"
   ]
  },
  {
   "cell_type": "code",
   "execution_count": 32,
   "id": "e5658cc7",
   "metadata": {},
   "outputs": [
    {
     "data": {
      "text/plain": [
       "(13996623, 26)"
      ]
     },
     "execution_count": 32,
     "metadata": {},
     "output_type": "execute_result"
    }
   ],
   "source": [
    "#Dropping the Diverted coloumn\n",
    "joined_df.drop(columns=[\"Diverted\"],inplace= True)\n",
    "joined_df.shape"
   ]
  },
  {
   "cell_type": "code",
   "execution_count": 41,
   "id": "6e14a4de",
   "metadata": {},
   "outputs": [
    {
     "name": "stdout",
     "output_type": "stream",
     "text": [
      "Colname: Month,min : 1, max : 12\n",
      "Colname: DayofMonth,min : 1, max : 31\n",
      "Colname: DayOfWeek,min : 1, max : 7\n",
      "Colname: CRSDepTime,min : 0, max : 2359\n",
      "Colname: CRSArrTime,min : 0, max : 2359\n",
      "Colname: FlightNum,min : 1, max : 9619\n",
      "Colname: Distance,min : 11, max : 4962\n",
      "Colname: TaxiIn,min : 0, max : 1523\n",
      "Colname: TaxiOut,min : 0, max : 1339\n",
      "Colname: CarrierDelay,min : 0, max : 1925\n",
      "Colname: WeatherDelay,min : 0, max : 1510\n",
      "Colname: NASDelay,min : -49, max : 1392\n",
      "Colname: SecurityDelay,min : 0, max : 354\n",
      "Colname: LateAircraftDelay,min : 0, max : 1366\n"
     ]
    }
   ],
   "source": [
    "#Investigating illogical values\n",
    "for column in joined_df.columns[1:]:\n",
    "    if joined_df[column].dtype == \"int64\" :\n",
    "        print(f\"Colname: {column},min : {joined_df[column].min()}, max : {joined_df[column].max()}\")\n"
   ]
  },
  {
   "cell_type": "code",
   "execution_count": 42,
   "id": "df846223",
   "metadata": {},
   "outputs": [
    {
     "name": "stdout",
     "output_type": "stream",
     "text": [
      "Colname: DepTime,min : 1.0, max : 2930.0\n",
      "Colname: ArrTime,min : 1.0, max : 2955.0\n",
      "Colname: ActualElapsedTime,min : -66.0, max : 1879.0\n",
      "Colname: CRSElapsedTime,min : -31.0, max : 660.0\n",
      "Colname: AirTime,min : -1428.0, max : 1958.0\n",
      "Colname: ArrDelay,min : -939.0, max : 1925.0\n",
      "Colname: DepDelay,min : -1200.0, max : 1930.0\n"
     ]
    }
   ],
   "source": [
    "#Investigating illogical values\n",
    "for column in joined_df.columns[1:]:\n",
    "    if joined_df[column].dtype == \"float64\" :\n",
    "        print(f\"Colname: {column},min : {joined_df[column].min()}, max : {joined_df[column].max()}\")\n"
   ]
  },
  {
   "cell_type": "code",
   "execution_count": 44,
   "id": "d1ad40d6",
   "metadata": {},
   "outputs": [],
   "source": [
    "#ArrTime and Deptime have values more than 24hours\n",
    "#We will be removing rows that have these values\n",
    "joined_df = joined_df[(joined_df[\"ArrTime\"]<2400)&(joined_df[\"DepTime\"]<2400)]"
   ]
  },
  {
   "cell_type": "code",
   "execution_count": 45,
   "id": "1422b974",
   "metadata": {},
   "outputs": [
    {
     "data": {
      "text/plain": [
       "(13979496, 26)"
      ]
     },
     "execution_count": 45,
     "metadata": {},
     "output_type": "execute_result"
    }
   ],
   "source": [
    "joined_df.shape\n",
    "#removed 17,127 rows"
   ]
  },
  {
   "cell_type": "code",
   "execution_count": 49,
   "id": "4f87e85d",
   "metadata": {},
   "outputs": [],
   "source": [
    "joined_df.to_csv(r\"C:\\Users\\Ridhwan\\Desktop\\UOL\\PROGRAMMING COURSEWORK\\joined_df.csv\", index= False)"
   ]
  }
 ],
 "metadata": {
  "kernelspec": {
   "display_name": "Python 3 (ipykernel)",
   "language": "python",
   "name": "python3"
  },
  "language_info": {
   "codemirror_mode": {
    "name": "ipython",
    "version": 3
   },
   "file_extension": ".py",
   "mimetype": "text/x-python",
   "name": "python",
   "nbconvert_exporter": "python",
   "pygments_lexer": "ipython3",
   "version": "3.9.12"
  }
 },
 "nbformat": 4,
 "nbformat_minor": 5
}
